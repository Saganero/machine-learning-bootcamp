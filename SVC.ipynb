{
  "nbformat": 4,
  "nbformat_minor": 0,
  "metadata": {
    "colab": {
      "provenance": [],
      "authorship_tag": "ABX9TyOYLM3wPnE6ZViUmCMhf6gn",
      "include_colab_link": true
    },
    "kernelspec": {
      "name": "python3",
      "display_name": "Python 3"
    },
    "language_info": {
      "name": "python"
    }
  },
  "cells": [
    {
      "cell_type": "markdown",
      "metadata": {
        "id": "view-in-github",
        "colab_type": "text"
      },
      "source": [
        "<a href=\"https://colab.research.google.com/github/Saganero/machine-learning-bootcamp/blob/main/SVC.ipynb\" target=\"_parent\"><img src=\"https://colab.research.google.com/assets/colab-badge.svg\" alt=\"Open In Colab\"/></a>"
      ]
    },
    {
      "cell_type": "code",
      "execution_count": 1,
      "metadata": {
        "id": "8PurqHDWM7LL"
      },
      "outputs": [],
      "source": [
        "import numpy as np\n",
        "import pandas as pd\n",
        "import matplotlib.pyplot as plt\n",
        "import seaborn as sns\n",
        "\n",
        "sns.set(font_scale=1.3)\n",
        "np.random.seed(42)"
      ]
    },
    {
      "cell_type": "code",
      "source": [
        "from sklearn.datasets import load_iris\n",
        "\n",
        "raw_data = load_iris()\n",
        "all_data = raw_data.copy()\n",
        "\n",
        "data = all_data['data']\n",
        "target = all_data['target']\n",
        "feature_names = all_data['feature_names']\n",
        "target_names = all_data['target_names']\n",
        "\n",
        "df = pd.DataFrame(np.c_[data, target], columns=feature_names + ['target'])\n",
        "# df = df[(df['target'] == 0.0) | (df['target'] == 1.0)]\n",
        "df.head()"
      ],
      "metadata": {
        "id": "5_pXauU8QsRq"
      },
      "execution_count": null,
      "outputs": []
    },
    {
      "cell_type": "code",
      "source": [
        "df.target.value_counts()"
      ],
      "metadata": {
        "id": "7LOFQRS2Urie"
      },
      "execution_count": null,
      "outputs": []
    },
    {
      "cell_type": "code",
      "source": [
        "data = df.iloc[:, [2, 1]].values\n",
        "target = df['target'].apply(int).values\n",
        "\n",
        "print(f'{data[:5]}\\n')\n",
        "print(f'{target[:5]}')"
      ],
      "metadata": {
        "id": "OlM5SEbeQvgJ"
      },
      "execution_count": null,
      "outputs": []
    },
    {
      "cell_type": "code",
      "source": [
        "#Podział na zbiór treningowy i testowy\n",
        "from sklearn.model_selection import train_test_split\n",
        "\n",
        "X_train, X_test, y_train, y_test = train_test_split(data, target)"
      ],
      "metadata": {
        "id": "8udiGmamQ0CI"
      },
      "execution_count": 5,
      "outputs": []
    },
    {
      "cell_type": "code",
      "source": [
        "#Standaryzacja cech\n",
        "from sklearn.preprocessing import StandardScaler\n",
        "\n",
        "scaler = StandardScaler()\n",
        "scaler.fit(X_train)\n",
        "\n",
        "X_train = scaler.transform(X_train)\n",
        "X_test = scaler.transform(X_test)\n",
        ""
      ],
      "metadata": {
        "id": "Un3XYbHjQ2K3"
      },
      "execution_count": 6,
      "outputs": []
    },
    {
      "cell_type": "code",
      "source": [
        "#Klasyfikator SVM - linear\n",
        "from sklearn.svm import SVC\n",
        "\n",
        "classifier = SVC(C=1.0, kernel='linear', degree = 3)\n",
        "classifier.fit(X_train, y_train)"
      ],
      "metadata": {
        "id": "aVwSqEVCQ8r3"
      },
      "execution_count": null,
      "outputs": []
    },
    {
      "cell_type": "code",
      "source": [
        "classifier.score(X_test, y_test)\n"
      ],
      "metadata": {
        "id": "3Cq4OxL8RAZW"
      },
      "execution_count": null,
      "outputs": []
    },
    {
      "cell_type": "code",
      "source": [
        "from mlxtend.plotting import plot_decision_regions\n",
        "\n",
        "plt.figure(figsize=(8, 6))\n",
        "plot_decision_regions(X_train, y_train, classifier)\n",
        "plt.xlabel(feature_names[2])\n",
        "plt.ylabel(feature_names[1])\n",
        "plt.title(f'SVC: train accuracy: {classifier.score(X_train, y_train):.4f}')\n",
        "plt.show()\n",
        ""
      ],
      "metadata": {
        "id": "bY4DapTLRDHB"
      },
      "execution_count": null,
      "outputs": []
    },
    {
      "cell_type": "code",
      "source": [
        "#Wykres danych testowych dla danych testowych:\n",
        "\n",
        "plt.figure(figsize=(8, 6))\n",
        "plot_decision_regions(X_test, y_test, classifier)\n",
        "plt.xlabel(feature_names[2])\n",
        "plt.ylabel(feature_names[1])\n",
        "plt.title(f'SVC: test accuracy: {classifier.score(X_test, y_test):.4f}')\n",
        "plt.show()"
      ],
      "metadata": {
        "id": "c6xyuw-ORDIw"
      },
      "execution_count": null,
      "outputs": []
    },
    {
      "cell_type": "code",
      "source": [
        "#Klasyfikator SVM - rbf\n",
        "classifier = SVC(C=1.0, kernel='rbf')\n",
        "\n",
        "classifier.fit(X_train, y_train)\n",
        "classifier.score(X_test, y_test)"
      ],
      "metadata": {
        "id": "2fDc4gz0Sa1z"
      },
      "execution_count": null,
      "outputs": []
    },
    {
      "cell_type": "code",
      "source": [
        "plt.figure(figsize=(8, 6))\n",
        "plot_decision_regions(X_train, y_train, classifier)\n",
        "plt.xlabel(feature_names[2])\n",
        "plt.ylabel(feature_names[1])\n",
        "plt.title(f'SVC: train accuracy: {classifier.score(X_train, y_train):.4f}')\n",
        "plt.show()"
      ],
      "metadata": {
        "id": "rceQ-U3UVLr_"
      },
      "execution_count": null,
      "outputs": []
    },
    {
      "cell_type": "code",
      "source": [
        "plt.figure(figsize=(8, 6))\n",
        "plot_decision_regions(X_test, y_test, classifier)\n",
        "plt.xlabel(feature_names[2])\n",
        "plt.ylabel(feature_names[1])\n",
        "plt.title(f'SVC: test accuracy: {classifier.score(X_test, y_test):.4f}')\n",
        "plt.show()"
      ],
      "metadata": {
        "id": "ffN5tl04VcST"
      },
      "execution_count": null,
      "outputs": []
    }
  ]
}