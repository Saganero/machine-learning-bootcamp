{
  "nbformat": 4,
  "nbformat_minor": 0,
  "metadata": {
    "colab": {
      "provenance": [],
      "authorship_tag": "ABX9TyN+UmHcTyTcJ+Xyy9XWbHAB",
      "include_colab_link": true
    },
    "kernelspec": {
      "name": "python3",
      "display_name": "Python 3"
    },
    "language_info": {
      "name": "python"
    }
  },
  "cells": [
    {
      "cell_type": "markdown",
      "metadata": {
        "id": "view-in-github",
        "colab_type": "text"
      },
      "source": [
        "<a href=\"https://colab.research.google.com/github/Saganero/machine-learning-bootcamp/blob/master/DicisionTreeClassifier_Hearth_Disease.ipynb\" target=\"_parent\"><img src=\"https://colab.research.google.com/assets/colab-badge.svg\" alt=\"Open In Colab\"/></a>"
      ]
    },
    {
      "cell_type": "markdown",
      "source": [
        "Hearth Disease - przewidywanie choroby serca"
      ],
      "metadata": {
        "id": "h44O1d338g8Y"
      }
    },
    {
      "cell_type": "markdown",
      "source": [
        "\\"
      ],
      "metadata": {
        "id": "dWkevR5l8doo"
      }
    },
    {
      "cell_type": "code",
      "execution_count": 57,
      "metadata": {
        "id": "vBYJ5JbunSRs"
      },
      "outputs": [],
      "source": [
        "import numpy as np\n",
        "import pandas as pd\n",
        "from sklearn.model_selection import train_test_split\n",
        "from sklearn.tree import DecisionTreeClassifier\n",
        "from sklearn.metrics import accuracy_score\n",
        "from sklearn import tree"
      ]
    },
    {
      "cell_type": "code",
      "source": [
        "%%bash\n",
        "wget -q https://ml-repository-krakers.s3-eu-west-1.amazonaws.com/decision_tree_course/datasets/heart.csv\n",
        "     "
      ],
      "metadata": {
        "id": "iuCdIjxA6tIk"
      },
      "execution_count": 58,
      "outputs": []
    },
    {
      "cell_type": "markdown",
      "source": [
        "Opis wybranych zmiennych\n",
        "cp: chest pain type (4 wartości)\n",
        "trestbps: spoczynkowe ciśnienie krwi\n",
        "chol: cholesterol\n",
        "fbs: cukier we krwi na czczo\n",
        "restecg: spoczynkowe EKG\n",
        "thalach: maksymalne tetno\n",
        "exang: duszność spowodowana wysiłkiem ('yes' = 1, 'no' = 0)"
      ],
      "metadata": {
        "id": "HtIq3y2g-9BP"
      }
    },
    {
      "cell_type": "code",
      "source": [
        "df = pd.read_csv('heart.csv')\n",
        "df.head()"
      ],
      "metadata": {
        "id": "-4gzTxwp-EXM"
      },
      "execution_count": null,
      "outputs": []
    },
    {
      "cell_type": "code",
      "source": [
        "df.describe().apply(lambda x: round(x, 2))"
      ],
      "metadata": {
        "id": "Woi4_nt_-q6I"
      },
      "execution_count": null,
      "outputs": []
    },
    {
      "cell_type": "code",
      "source": [
        "X = df[df.columns[:-1]]\n",
        "y = df.target"
      ],
      "metadata": {
        "id": "lcW7GD76_Vpm"
      },
      "execution_count": 61,
      "outputs": []
    },
    {
      "cell_type": "markdown",
      "source": [
        "Podział danych na zbiór treningowy i tekstowy"
      ],
      "metadata": {
        "id": "axDvrQ3oATRt"
      }
    },
    {
      "cell_type": "code",
      "source": [
        "X_train, X_test, y_train, y_test = train_test_split(X,y)\n",
        "\n",
        "print(X_train.shape)\n",
        "print(X_test.shape)"
      ],
      "metadata": {
        "id": "M36lQIgIAMaz"
      },
      "execution_count": null,
      "outputs": []
    },
    {
      "cell_type": "markdown",
      "source": [
        "Budowa modelu"
      ],
      "metadata": {
        "id": "qz31wYH3Au9M"
      }
    },
    {
      "cell_type": "code",
      "source": [
        "tree = DecisionTreeClassifier(max_depth = 5, min_samples_leaf = 9)\n",
        "tree.fit(X_train, y_train)"
      ],
      "metadata": {
        "id": "dknW5utEAr6R"
      },
      "execution_count": null,
      "outputs": []
    },
    {
      "cell_type": "code",
      "source": [
        "tree.score(X_test, y_test)"
      ],
      "metadata": {
        "id": "npgA2JyGA73x"
      },
      "execution_count": null,
      "outputs": []
    },
    {
      "cell_type": "code",
      "source": [
        "y_pred = tree.predict(X_test)\n",
        "y_pred"
      ],
      "metadata": {
        "id": "2-Yprt73A9sQ"
      },
      "execution_count": null,
      "outputs": []
    },
    {
      "cell_type": "code",
      "source": [
        "accuracy_score(y_test, y_pred)"
      ],
      "metadata": {
        "id": "bIJ1lZRfBYZf"
      },
      "execution_count": null,
      "outputs": []
    },
    {
      "cell_type": "code",
      "source": [
        "from sklearn.tree import export_graphviz\n",
        "from six import StringIO\n",
        "from IPython.display import Image\n",
        "import pydotplus\n",
        "\n",
        "dot_data = StringIO()\n",
        "export_graphviz(tree, out_file=dot_data,\n",
        "               filled=True, rounded=True,\n",
        "               special_characters=True,\n",
        "               feature_names=df.columns[:-1],\n",
        "               class_names=['True', 'False'])\n",
        "graph = pydotplus.graph_from_dot_data(dot_data.getvalue())\n",
        "graph.write_png('diabetes.png')\n",
        "Image(graph.create_png())"
      ],
      "metadata": {
        "id": "FPXk-1-xBnhe"
      },
      "execution_count": null,
      "outputs": []
    },
    {
      "cell_type": "code",
      "source": [
        "from sklearn.model_selection import GridSearchCV\n",
        "\n",
        "param_grid = {\n",
        "    'max_depth' : np.arange(1,10),\n",
        "    'min_samples_leaf' : np.arange(1,10,2)}\n",
        "\n",
        "gs = GridSearchCV(tree, param_grid = param_grid, scoring = 'accuracy')\n",
        "\n",
        "gs.fit(X_train, y_train)\n",
        "\n",
        "print(gs.best_params_)\n",
        "print(gs.best_estimator_)"
      ],
      "metadata": {
        "id": "SYM0D1rXDpMW"
      },
      "execution_count": null,
      "outputs": []
    },
    {
      "cell_type": "code",
      "source": [
        "gs.score(X_test, y_test)"
      ],
      "metadata": {
        "id": "fAkULjP8SbNG"
      },
      "execution_count": null,
      "outputs": []
    }
  ]
}