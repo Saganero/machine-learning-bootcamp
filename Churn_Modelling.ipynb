{
  "nbformat": 4,
  "nbformat_minor": 0,
  "metadata": {
    "colab": {
      "provenance": [],
      "authorship_tag": "ABX9TyPr2scAfhb3YX8IdAsr83vi",
      "include_colab_link": true
    },
    "kernelspec": {
      "name": "python3",
      "display_name": "Python 3"
    },
    "language_info": {
      "name": "python"
    }
  },
  "cells": [
    {
      "cell_type": "markdown",
      "metadata": {
        "id": "view-in-github",
        "colab_type": "text"
      },
      "source": [
        "<a href=\"https://colab.research.google.com/github/Saganero/machine-learning-bootcamp/blob/master/Churn_Modelling.ipynb\" target=\"_parent\"><img src=\"https://colab.research.google.com/assets/colab-badge.svg\" alt=\"Open In Colab\"/></a>"
      ]
    },
    {
      "cell_type": "markdown",
      "source": [
        "Churn Modelling"
      ],
      "metadata": {
        "id": "7rdM50JMOTGx"
      }
    },
    {
      "cell_type": "code",
      "execution_count": null,
      "metadata": {
        "id": "j-sMidcgOIFz"
      },
      "outputs": [],
      "source": [
        "import pandas as pd\n",
        "import numpy as np\n",
        "import matplotlib.pyplot as plt\n",
        "import seaborn as sns\n",
        "\n",
        "url = 'https://ml-repository-krakers.s3-eu-west-1.amazonaws.com/kaggle+/churn_modelling/Telco-Customer-Churn.csv'\n",
        "df = pd.read_csv(url)\n",
        "df.head()"
      ]
    },
    {
      "cell_type": "code",
      "source": [
        "df.info()"
      ],
      "metadata": {
        "id": "BYzKrC12SjXz"
      },
      "execution_count": null,
      "outputs": []
    },
    {
      "cell_type": "markdown",
      "source": [
        "Wstepne przetworzenie danych"
      ],
      "metadata": {
        "id": "FofAoYNeSabc"
      }
    },
    {
      "cell_type": "code",
      "source": [
        "TotalChargesMedian = df[df.TotalCharges != ' ']['TotalCharges'].astype('float32').median()"
      ],
      "metadata": {
        "id": "cicMQRu1Scvq"
      },
      "execution_count": 71,
      "outputs": []
    },
    {
      "cell_type": "code",
      "source": [
        "df['TotalCharges'][df['TotalCharges'] == ' '] = TotalChargesMedian\n",
        "df['TotalCharges'] = df['TotalCharges'].astype('float32')"
      ],
      "metadata": {
        "id": "gLz3vPYkSyya"
      },
      "execution_count": null,
      "outputs": []
    },
    {
      "cell_type": "code",
      "source": [
        "df.TotalCharges.value_counts()"
      ],
      "metadata": {
        "id": "N0-1NhxxT1A2"
      },
      "execution_count": null,
      "outputs": []
    },
    {
      "cell_type": "code",
      "source": [
        "df.info()"
      ],
      "metadata": {
        "id": "qd-l6CBeUSPV"
      },
      "execution_count": null,
      "outputs": []
    },
    {
      "cell_type": "code",
      "source": [
        "df.isnull().sum().sum()"
      ],
      "metadata": {
        "colab": {
          "base_uri": "https://localhost:8080/"
        },
        "id": "QzjHnoAUUfiU",
        "outputId": "7a00b55e-4bcc-4265-8e04-37cf2ddeedd9"
      },
      "execution_count": 75,
      "outputs": [
        {
          "output_type": "execute_result",
          "data": {
            "text/plain": [
              "0"
            ]
          },
          "metadata": {},
          "execution_count": 75
        }
      ]
    },
    {
      "cell_type": "code",
      "source": [
        "categorical = ['gender', 'SeniorCitizen', 'Partner', 'Dependents', 'PhoneService', 'MultipleLines', \n",
        "               'InternetService', 'OnlineSecurity', 'OnlineBackup', 'DeviceProtection', 'TechSupport',\n",
        "               'StreamingTV', 'Contract', 'StreamingMovies', 'PaperlessBilling', 'PaymentMethod', 'Churn']\n",
        "numerical = ['tenure', 'MonthlyCharges', 'TotalCharges']"
      ],
      "metadata": {
        "id": "dq5wCzBIVmXh"
      },
      "execution_count": 76,
      "outputs": []
    },
    {
      "cell_type": "code",
      "source": [
        "for col in categorical:\n",
        "  df[col] = pd.Categorical(df[col])\n",
        "\n",
        "for col in numerical:\n",
        "  df[col] = df[col].astype('float32')"
      ],
      "metadata": {
        "id": "Qr7oRyetV4X5"
      },
      "execution_count": 77,
      "outputs": []
    },
    {
      "cell_type": "code",
      "source": [
        "df.info()"
      ],
      "metadata": {
        "id": "34F4vDSIWQMu"
      },
      "execution_count": null,
      "outputs": []
    },
    {
      "cell_type": "code",
      "source": [
        "df = df.drop(columns=['customerID'])"
      ],
      "metadata": {
        "id": "zHv5VPF3W6kO"
      },
      "execution_count": 79,
      "outputs": []
    },
    {
      "cell_type": "code",
      "source": [
        "df.info()"
      ],
      "metadata": {
        "id": "-1_218cTX8xU"
      },
      "execution_count": null,
      "outputs": []
    },
    {
      "cell_type": "code",
      "source": [
        "df.describe()"
      ],
      "metadata": {
        "id": "68AojIh3YGux"
      },
      "execution_count": null,
      "outputs": []
    },
    {
      "cell_type": "code",
      "source": [
        "df.describe(include = ['category'])"
      ],
      "metadata": {
        "id": "K6KCchaNewIs"
      },
      "execution_count": null,
      "outputs": []
    },
    {
      "cell_type": "markdown",
      "source": [],
      "metadata": {
        "id": "mQo0Ipl9ZbuN"
      }
    },
    {
      "cell_type": "code",
      "source": [
        "plt.figure(figsize = (6, 6))\n",
        "sns.set()\n",
        "df.Churn.value_counts().plot(kind = 'pie',\n",
        "                             fontsize = 16, \n",
        "                             colors = ['green', 'red'], \n",
        "                             explode = [0.1, 0],\n",
        "                             shadow = True,\n",
        "                             autopct = '%1.1f%%')\n",
        "plt.legend()\n",
        "plt.ylabel('')\n",
        "plt.title('Rozkład churn')\n",
        "print(df.Churn.value_counts())"
      ],
      "metadata": {
        "id": "1oWA9iSNYH54"
      },
      "execution_count": null,
      "outputs": []
    },
    {
      "cell_type": "code",
      "source": [
        "plt.figure(figsize = (6, 6))\n",
        "sns.set()\n",
        "df.gender.value_counts().plot(kind = 'pie',\n",
        "                             fontsize = 16, \n",
        "                             colors = ['green', 'red'], \n",
        "                             explode = [0.1, 0],\n",
        "                             shadow = True,\n",
        "                             autopct = '%1.1f%%')\n",
        "plt.legend()\n",
        "plt.ylabel('')\n",
        "plt.xlabel('')\n",
        "plt.title('Rozkład gender')\n",
        "print(df.Churn.value_counts())"
      ],
      "metadata": {
        "id": "PnyHygYsZBx2"
      },
      "execution_count": null,
      "outputs": []
    },
    {
      "cell_type": "code",
      "source": [
        "plt.figure(figsize = (6, 6))\n",
        "sns.set()\n",
        "df.SeniorCitizen.value_counts().plot(kind = 'pie',\n",
        "                             fontsize = 16, \n",
        "                             colors = ['green', 'red'], \n",
        "                             explode = [0.1, 0],\n",
        "                             shadow = True,\n",
        "                             autopct = '%1.1f%%')\n",
        "plt.legend()\n",
        "plt.ylabel('')\n",
        "plt.title('Rozkład SeniorCitizen')\n",
        "print(df.Churn.value_counts())"
      ],
      "metadata": {
        "id": "iDkVnpkda4Jv"
      },
      "execution_count": null,
      "outputs": []
    },
    {
      "cell_type": "code",
      "source": [
        "sns.pairplot(data = df, \n",
        "             vars = ['tenure', 'MonthlyCharges', 'TotalCharges'],\n",
        "             hue = 'Churn',\n",
        "             palette = ['green', 'red'])"
      ],
      "metadata": {
        "id": "ebEQg0e7cRu-"
      },
      "execution_count": null,
      "outputs": []
    },
    {
      "cell_type": "code",
      "source": [
        "sns.catplot(data=df, x='Churn', y='MonthlyCharges',\n",
        "           kind='violin', palette=['#3DDC97', '#FF495C'])"
      ],
      "metadata": {
        "id": "Gf5CWBNxi9Df"
      },
      "execution_count": null,
      "outputs": []
    },
    {
      "cell_type": "code",
      "source": [
        "df.corr()"
      ],
      "metadata": {
        "id": "erOZoDKHkceT"
      },
      "execution_count": null,
      "outputs": []
    },
    {
      "cell_type": "code",
      "source": [
        "sns.heatmap(df.corr(), cmap = 'viridis')"
      ],
      "metadata": {
        "id": "DJGMP_NekgAx"
      },
      "execution_count": null,
      "outputs": []
    }
  ]
}