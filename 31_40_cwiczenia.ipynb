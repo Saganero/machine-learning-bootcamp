{
  "nbformat": 4,
  "nbformat_minor": 0,
  "metadata": {
    "colab": {
      "provenance": [],
      "include_colab_link": true
    },
    "kernelspec": {
      "name": "python3",
      "display_name": "Python 3"
    }
  },
  "cells": [
    {
      "cell_type": "markdown",
      "metadata": {
        "id": "view-in-github",
        "colab_type": "text"
      },
      "source": [
        "<a href=\"https://colab.research.google.com/github/Saganero/machine-learning-bootcamp/blob/master/31_40_cwiczenia.ipynb\" target=\"_parent\"><img src=\"https://colab.research.google.com/assets/colab-badge.svg\" alt=\"Open In Colab\"/></a>"
      ]
    },
    {
      "cell_type": "markdown",
      "metadata": {
        "id": "AgkQV40QK4PQ"
      },
      "source": [
        "## 31-40 Ćwiczenia"
      ]
    },
    {
      "cell_type": "markdown",
      "metadata": {
        "id": "I3xAxMMWK6Rj"
      },
      "source": [
        "### Ćwiczenie 31\n",
        "Poniżej załadowano zbiór *Breast Cancer Data* do zmiennej *raw_data*. Następnie przypisano do zmiennej *data* tablicę *numpy* z danymi ze zmiennej *raw_data* oraz do zmiennej *target* tablicę *numpy* ze zmienną docelową. Wykorzystując funkcję *train_test_split()* z biblioteki *scikit-learn* podziel dane (*data* oraz *target*) na zbiór treningowy i testowy, odpowiednio:\n",
        "\n",
        "* zbiór treningowy: `X_train, y_train`\n",
        "* zbiór testowy: `X_test, y_test`\n",
        "\n",
        "Ustaw parametr `random_state=40` oraz rozmiar zbioru testowego na 25%. \n",
        "\n",
        "W odpowiedzi wydrukuj rozmiary tablic: `X_train, y_train, X_test, y_test`\n",
        "\n",
        "**Wskazówka:**\n",
        "\n",
        "Więcej na temat funkcji *train_test_split()*: https://scikit-learn.org/stable/modules/generated/sklearn.model_selection.train_test_split.html\n",
        "\n",
        "**Oczekiwany wynik:**\n",
        "```            \n",
        "X_train shape (426, 30)\n",
        "y_train shape (426,)\n",
        "X_test shape (143, 30)\n",
        "y_test shape (143,)\n",
        "```"
      ]
    },
    {
      "cell_type": "code",
      "metadata": {
        "id": "vFTtuvR2K2Gj",
        "outputId": "f7ef6f7b-8fb4-437f-9198-c82c779ba38a",
        "colab": {
          "base_uri": "https://localhost:8080/"
        }
      },
      "source": [
        "import numpy as np\n",
        "import pandas as pd\n",
        "from sklearn.datasets import load_breast_cancer\n",
        "from sklearn.model_selection import train_test_split\n",
        "\n",
        "\n",
        "pd.set_option('display.max_columns', 10)\n",
        "pd.set_option('display.width', 200)\n",
        "np.set_printoptions(precision=2, suppress=True, linewidth=100)\n",
        "raw_data = load_breast_cancer()\n",
        "\n",
        "data = raw_data['data']\n",
        "target = raw_data['target']\n",
        "\n",
        "X_train, y_train, X_test, y_test = train_test_split(data, target, random_state=40, test_size = 0.25)\n",
        "\n",
        "print(f'X_train shape is {X_train.shape}')\n",
        "print(f'y_train shape is {y_train.shape}')\n",
        "print(f'X_test shape is {X_test.shape}')\n",
        "print(f'y_test shape is {y_test.shape}')\n"
      ],
      "execution_count": 2,
      "outputs": [
        {
          "output_type": "stream",
          "name": "stdout",
          "text": [
            "X_train shape is (426, 30)\n",
            "y_train shape is (143, 30)\n",
            "X_test shape is (426,)\n",
            "y_test shape is (143,)\n"
          ]
        }
      ]
    },
    {
      "cell_type": "markdown",
      "metadata": {
        "id": "ocIqYddAK7xT"
      },
      "source": [
        "### Ćwiczenie 32\n",
        "Poniżej załadowano zbiór *Breast Cancer Data* do zmiennej *raw_data*. Następnie przypisano do zmiennej *data* tablicę numpy z danymi ze zmiennej *raw_data* oraz do zmiennej *target* tablicę numpy ze zmienną docelową. Zmienna docelowa przyjmuje tylko dwie wartości 0 lub 1. Podzielono także dane na zbiór treningowy i testowy, odpowiednio:\n",
        "\n",
        "* zbiór treningowy: `X_train, y_train`\n",
        "* zbiór testowy: `X_test, y_test`\n",
        "\n",
        "Sprawdź procentowy rozkład wartości zmiennych *target*, *y_train* oraz *y_test*. Wynik wydrukuj do konsoli tak jak pokazano poniżej.\n",
        "\n",
        "**Wskazówka:** Możesz użyć funkcji *np.unique()*.\n",
        "\n",
        "**Oczekiwany wynik:**\n",
        "```\n",
        "target :[0.37 0.63]\n",
        "y_train:[0.39 0.61]\n",
        "y_test :[0.31 0.69]\n",
        "```"
      ]
    },
    {
      "cell_type": "code",
      "metadata": {
        "id": "G-DuKlboK8I2"
      },
      "source": [
        "import numpy as np\n",
        "import pandas as pd\n",
        "from sklearn.datasets import load_breast_cancer\n",
        "from sklearn.model_selection import train_test_split\n",
        "\n",
        "\n",
        "pd.set_option('display.max_columns', 10)\n",
        "pd.set_option('display.width', 200)\n",
        "np.set_printoptions(precision=2, suppress=True, linewidth=100)\n",
        "raw_data = load_breast_cancer()\n",
        "\n",
        "data = raw_data['data']\n",
        "target = raw_data['target']\n",
        "\n",
        "X_train, X_test, y_train, y_test = train_test_split(data, target, random_state=40, test_size=0.25)\n",
        "\n",
        "\n",
        "\n"
      ],
      "execution_count": 31,
      "outputs": []
    },
    {
      "cell_type": "code",
      "source": [
        "u, counts = np.unique(target, return_counts=True)\n",
        "\n",
        "print(f'target: {counts/len(target)}')"
      ],
      "metadata": {
        "id": "Y9RuPGquUp5p",
        "outputId": "9b2a2e97-f816-4009-b0e7-41b75a885c83",
        "colab": {
          "base_uri": "https://localhost:8080/"
        }
      },
      "execution_count": 27,
      "outputs": [
        {
          "output_type": "stream",
          "name": "stdout",
          "text": [
            "target: [0.37 0.63]\n"
          ]
        }
      ]
    },
    {
      "cell_type": "code",
      "source": [
        "y_train_unique, y_train_counted = np.unique(y_train, return_counts=True)\n",
        "\n",
        "print(f'y_train: {y_train_counted/np.size(y_train)}')\n"
      ],
      "metadata": {
        "id": "zBG7_49ATqDW",
        "outputId": "05299f4e-6b47-449c-8280-9eb730b62e1d",
        "colab": {
          "base_uri": "https://localhost:8080/"
        }
      },
      "execution_count": 45,
      "outputs": [
        {
          "output_type": "stream",
          "name": "stdout",
          "text": [
            "y_train: [0.39 0.61]\n"
          ]
        }
      ]
    },
    {
      "cell_type": "code",
      "source": [
        "y_test_uniqe, y_test_counted = np.unique(y_test, return_counts=True)\n",
        "\n",
        "print(f'y_test: {y_test_counted/np.size(y_test)}')"
      ],
      "metadata": {
        "id": "QadgJk-0ZbSl",
        "outputId": "b24dfda8-ba29-4f3f-be78-42856c9588ae",
        "colab": {
          "base_uri": "https://localhost:8080/"
        }
      },
      "execution_count": 38,
      "outputs": [
        {
          "output_type": "stream",
          "name": "stdout",
          "text": [
            "y_test: [0.31 0.69]\n"
          ]
        }
      ]
    },
    {
      "cell_type": "code",
      "source": [
        "for name, array in zip(['target', 'y_train', 'y_test'], [target, y_train, y_test]):\n",
        "    print(f'{name.ljust(7)}:{np.unique(array, return_counts=True)[1] / len(array)}')"
      ],
      "metadata": {
        "id": "YW3niza_bBHa",
        "outputId": "19d5f077-86a9-4683-ed5a-baa762e00699",
        "colab": {
          "base_uri": "https://localhost:8080/"
        }
      },
      "execution_count": 44,
      "outputs": [
        {
          "output_type": "stream",
          "name": "stdout",
          "text": [
            "target :[0.37 0.63]\n",
            "y_train:[0.39 0.61]\n",
            "y_test :[0.31 0.69]\n"
          ]
        }
      ]
    },
    {
      "cell_type": "code",
      "source": [
        "a,b = np.unique(array, return_counts=True)\n",
        "\n",
        "print(f'a is {a}')\n",
        "print(f'b is {b}')\n",
        "print(np.unique(array, return_counts=True)[1])"
      ],
      "metadata": {
        "id": "W9Yj03LGdqrd",
        "outputId": "fa69d07a-d699-4a0d-c825-68f5903ffa38",
        "colab": {
          "base_uri": "https://localhost:8080/"
        }
      },
      "execution_count": 53,
      "outputs": [
        {
          "output_type": "stream",
          "name": "stdout",
          "text": [
            "a is [0 1]\n",
            "b is [45 98]\n",
            "[45 98]\n"
          ]
        }
      ]
    },
    {
      "cell_type": "markdown",
      "metadata": {
        "id": "EzytXoIqK8a5"
      },
      "source": [
        "### Ćwiczenie 33\n",
        "Poniżej załadowano zbiór *Breast Cancer Data* do zmiennej *raw_data*. Następnie przypisano do zmiennej *data* tablicę *numpy* z danymi ze zmiennej *raw_data* oraz do zmiennej *target* tablicę *numpy* ze zmienną docelową. Zmienna docelowa przyjmuje tylko dwie wartości 0 lub 1. Podziel dane na zbiór treningowy i testowy, odpowiednio:\n",
        "\n",
        "* zbiór treningowy: `X_train, y_train`\n",
        "* zbiór testowy: `X_test, y_test`\n",
        "\n",
        "tak, aby zachować procentowy rozkład wartości w zmiennych *y_train* oraz *y_test*.\n",
        "\n",
        "Następnie sprawdź procentowy rozkład wartości zmiennych *target, y_train* oraz *y_test*. Wynik wydrukuj do konsoli tak jak pokazano poniżej.\n",
        "\n",
        "**Wskazówka:** Możesz użyć funkcji *np.unique()*.\n",
        "\n",
        "**Oczekiwany wynik:**\n",
        "```\n",
        "target :[0.37 0.63]\n",
        "y_train:[0.37 0.63]\n",
        "y_test :[0.37 0.63]\n",
        "```"
      ]
    },
    {
      "cell_type": "code",
      "metadata": {
        "id": "_p60en4CK8m4",
        "outputId": "e206c491-6eae-4ffe-fb8d-caa6f4e6e2ab",
        "colab": {
          "base_uri": "https://localhost:8080/"
        }
      },
      "source": [
        "import numpy as np\n",
        "import pandas as pd\n",
        "from sklearn.datasets import load_breast_cancer\n",
        "from sklearn.model_selection import train_test_split\n",
        "\n",
        "\n",
        "pd.set_option('display.max_columns', 10)\n",
        "pd.set_option('display.width', 200)\n",
        "np.set_printoptions(precision=2, suppress=True, linewidth=100)\n",
        "raw_data = load_breast_cancer()\n",
        "\n",
        "data = raw_data['data']\n",
        "target = raw_data['target']\n",
        "\n",
        "X_train, y_train, X_test, y_test = train_test_split(data, target, shuffle = target)\n",
        "\n",
        "for label, parameter in zip(['target', 'y_train', 'y_test'], [target, y_train, y_test]):\n",
        "  print(f'The percentage of {label} is {np.unique(parameter, return_counts = True)[1]/len(parameter)}')"
      ],
      "execution_count": 57,
      "outputs": [
        {
          "output_type": "stream",
          "name": "stdout",
          "text": [
            "The percentage of target          is [0.37 0.63]\n",
            "The percentage of y_train         is [0.13 0.01 0.01 ... 0.01 0.01 0.01]\n",
            "The percentage of y_test          is [0.37 0.63]\n"
          ]
        }
      ]
    },
    {
      "cell_type": "code",
      "source": [
        "\n",
        "for name, array in zip(['target', 'y_train', 'y_test'], [target, y_train, y_test]):\n",
        "    print(f'{name.ljust(7)}:{np.unique(array, return_counts=True)[1] / len(array)}')"
      ],
      "metadata": {
        "id": "AT0GigY_ezto",
        "outputId": "cbdf354d-bdfa-4b55-b431-089a96ee667b",
        "colab": {
          "base_uri": "https://localhost:8080/"
        }
      },
      "execution_count": 56,
      "outputs": [
        {
          "output_type": "stream",
          "name": "stdout",
          "text": [
            "target :[0.37 0.63]\n",
            "y_train:[0.01 0.01 0.01 ... 0.01 0.01 0.01]\n",
            "y_test :[0.35 0.65]\n"
          ]
        }
      ]
    },
    {
      "cell_type": "markdown",
      "metadata": {
        "id": "AEki0o3rK88L"
      },
      "source": [
        "### Ćwiczenie 34\n",
        "Podany jest poniższy obiekt *DataFrame df*:\n",
        "```\n",
        "   years  salary\n",
        "0      1    4000\n",
        "1      2    4250\n",
        "2      3    4500\n",
        "3      4    4750\n",
        "4      5    5000\n",
        "5      6    5250\n",
        "```\n",
        "Pierwsza kolumna opisuje lata pracy (zmienna objaśniająca), druga kolumna opisuje wynagrodzenie pracownika (zmienna objaśniana). Wykorzystując równanie normalne oraz bibliotekę *numpy* znajdź równanie regresji liniowej. Wynik wydrukuj do konsoli tak jak pokazano poniżej.\n",
        "\n",
        "**Oczekiwany wynik:**\n",
        "```\n",
        "Linear regression: 3750.00 + 250.00x\n",
        "```"
      ]
    },
    {
      "cell_type": "code",
      "metadata": {
        "id": "t_ohvmuUK9Jk",
        "outputId": "2ffda912-e694-496f-a94b-15fa6341fb81",
        "colab": {
          "base_uri": "https://localhost:8080/"
        }
      },
      "source": [
        "import numpy as np\n",
        "import pandas as pd\n",
        "\n",
        "\n",
        "df = pd.DataFrame({'years': [1, 2, 3, 4, 5, 6],\n",
        "                   'salary': [4000, 4250, 4500, 4750, 5000, 5250]})\n",
        "\n",
        "x = df['years']\n",
        "y = df['salary']\n",
        "\n",
        "#ustalenie równania regresji liniowej:\n",
        "\n",
        "coefficients = np.polyfit(x, y, 1)\n",
        "a = coefficients[0]\n",
        "b = coefficients[1]\n",
        "print(coefficients)\n",
        "print(f'Linear regression: {a.round(0)}x+{b.round(0)}')\n"
      ],
      "execution_count": 70,
      "outputs": [
        {
          "output_type": "stream",
          "name": "stdout",
          "text": [
            "[ 250. 3750.]\n",
            "Linear regression: 250.0x+3750.0\n"
          ]
        }
      ]
    },
    {
      "cell_type": "markdown",
      "metadata": {
        "id": "MHdBwc3RK9eP"
      },
      "source": [
        "### Ćwiczenie 35\n",
        "Podany jest poniższy obiekt *DataFrame df*:\n",
        "```\n",
        "   years  salary\n",
        "0      1    4000\n",
        "1      2    4250\n",
        "2      3    4500\n",
        "3      4    4750\n",
        "4      5    5000\n",
        "5      6    5250\n",
        "```\n",
        "Pierwsza kolumna opisuje lata pracy (zmienna objaśniająca), druga kolumna opisuje wynagrodzenie pracownika (zmienna objaśniana). Wykorzystując bibliotekę *scikit-learn* oraz klasę *LinearRegression* znajdź równianie regresji liniowej dla tego problemu. Wynik wydrukuj do konsoli tak jak pokazano poniżej.\n",
        "\n",
        "**Wskazówka:**\n",
        "\n",
        "Więcej na temat klasy *LinearRegression*: https://scikit-learn.org/stable/modules/generated/sklearn.linear_model.LinearRegression.html\n",
        "\n",
        "**Oczekiwany wynik:**\n",
        "```\n",
        "Linear regression: 3750.00 + 250.00x\n",
        "```"
      ]
    },
    {
      "cell_type": "code",
      "metadata": {
        "id": "Z29SG8ORK9qL"
      },
      "source": [
        "import numpy as np\n",
        "import pandas as pd\n",
        "from sklearn.linear_model import LinearRegression\n",
        "\n",
        "\n",
        "df = pd.DataFrame({'years': [1, 2, 3, 4, 5, 6],\n",
        "                   'salary': [4000, 4250, 4500, 4750, 5000, 5250]})"
      ],
      "execution_count": null,
      "outputs": []
    },
    {
      "cell_type": "markdown",
      "metadata": {
        "id": "vNIGrrXuMoHG"
      },
      "source": [
        "### Ćwiczenie 36\n",
        "Przed przejściem dalej wykonaj poniższe polecenie (pobiera plik *data.csv*)."
      ]
    },
    {
      "cell_type": "code",
      "metadata": {
        "id": "9rBmdE6aMl-f"
      },
      "source": [
        "!wget https://storage.googleapis.com/esmartdata-courses-files/python-210-cwiczenia/data.csv"
      ],
      "execution_count": null,
      "outputs": []
    },
    {
      "cell_type": "markdown",
      "metadata": {
        "id": "diCkxYXMK9-z"
      },
      "source": [
        "Wczytaj dane z pliku *data.csv* do obiektu *DataFrame*. Następnie w oparciu o zmienną *variable* zbuduj model regresji liniowej pozwalający przewidywać wartości zmiennej docelowej *target* (model zbuduj na wszystkich dostępnych danych). Wykorzystaj bibliotekę *scikit-learn* oraz klasę *LinearRegression*.\n",
        "\n",
        "Dokonaj oceny modelu wykorzystując metodę *score()*. Wynik wydrukuj do konsoli (do czwartego miejsca po przecinku).\n",
        "\n",
        "**Wskazówka:**\n",
        "\n",
        "Więcej na temat klasy *LinearRegression*: https://scikit-learn.org/stable/modules/generated/sklearn.linear_model.LinearRegression.html\n",
        "\n",
        "**Oczekiwany wynik:**\n",
        "```\n",
        "0.5532\n",
        "```"
      ]
    },
    {
      "cell_type": "code",
      "metadata": {
        "id": "BFfj9E_iK-aC"
      },
      "source": [
        "import numpy as np\n",
        "import pandas as pd\n",
        "from sklearn.linear_model import LinearRegression"
      ],
      "execution_count": null,
      "outputs": []
    },
    {
      "cell_type": "markdown",
      "metadata": {
        "id": "Se4skgSBNMOc"
      },
      "source": [
        "### Ćwiczenie 37\n",
        "Przed przejściem dalej wykonaj poniższe polecenie (pobiera plik *data_var1.csv*)."
      ]
    },
    {
      "cell_type": "code",
      "metadata": {
        "id": "ZLieSxCINIB-"
      },
      "source": [
        "!wget https://storage.googleapis.com/esmartdata-courses-files/python-210-cwiczenia/data_var1.csv"
      ],
      "execution_count": null,
      "outputs": []
    },
    {
      "cell_type": "markdown",
      "metadata": {
        "id": "-oxM9RliK-3H"
      },
      "source": [
        "Wczytaj plik *data_var1.csv* do obiektu *DataFrame*. Następnie dokonaj ekstrakcji cech wielomianowych ze zmiennej *var1* stopnia drugiego. Otrzymane cechy wyświetl do konsoli.\n",
        "\n",
        "**Oczekiwany wynik:**\n",
        "```\n",
        "[[ 1.    -0.542  0.294]\n",
        " [ 1.     0.529  0.279]\n",
        " [ 1.     0.625  0.391]\n",
        " [ 1.     0.194  0.038]\n",
        " [ 1.    -0.8    0.64 ]\n",
        " [ 1.    -0.304  0.092]\n",
        " [ 1.     1.086  1.18 ]\n",
        " [ 1.    -1.16   1.346]\n",
        " [ 1.     1.038  1.078]\n",
        " [ 1.    -0.815  0.665]\n",
        " [ 1.     0.416  0.173]\n",
        " [ 1.     1.297  1.683]\n",
        " [ 1.    -0.433  0.187]\n",
        " [ 1.     1.059  1.121]\n",
        " [ 1.     1.139  1.297]\n",
        " [ 1.     1.     1.   ]\n",
        " [ 1.     0.109  0.012]\n",
        " [ 1.    -0.39   0.152]\n",
        " [ 1.    -0.701  0.491]\n",
        " [ 1.     0.698  0.488]\n",
        " [ 1.     0.752  0.565]\n",
        " [ 1.     0.661  0.437]\n",
        " [ 1.    -0.964  0.93 ]\n",
        " [ 1.    -0.252  0.064]\n",
        " [ 1.     0.344  0.119]\n",
        " [ 1.     0.524  0.274]\n",
        " [ 1.    -0.164  0.027]\n",
        " [ 1.     0.048  0.002]\n",
        " [ 1.     0.606  0.367]\n",
        " [ 1.    -0.148  0.022]]\n",
        "```"
      ]
    },
    {
      "cell_type": "code",
      "metadata": {
        "id": "dtKanPycK_IL"
      },
      "source": [
        "import numpy as np\n",
        "import pandas as pd\n",
        "from sklearn.preprocessing import PolynomialFeatures\n",
        "\n",
        "\n",
        "np.set_printoptions(suppress=True, precision=3)"
      ],
      "execution_count": null,
      "outputs": []
    },
    {
      "cell_type": "markdown",
      "metadata": {
        "id": "DDZcYPC3Nl5K"
      },
      "source": [
        "### Ćwiczenie 38\n",
        "Przed przejściem dalej wykonaj poniższe polecenie (pobiera plik *data_var1_var2.csv*)"
      ]
    },
    {
      "cell_type": "code",
      "metadata": {
        "id": "XZFlr6moNj2x"
      },
      "source": [
        "!wget https://storage.googleapis.com/esmartdata-courses-files/python-210-cwiczenia/data_var1_var2.csv"
      ],
      "execution_count": null,
      "outputs": []
    },
    {
      "cell_type": "markdown",
      "metadata": {
        "id": "MmMgerbVK_h3"
      },
      "source": [
        "Wczytaj plik *data_var1.csv* do obiektu *DataFrame*. Następnie dokonaj ekstrakcji cech wielomianowych ze zmiennych *var1* oraz *var2* stopnia trzeciego. Otrzymane cechy wyświetl do konsoli.\n",
        "\n",
        "**Oczekiwany wynik:**\n",
        "```\n",
        "[[  1.     -0.016   0.589   0.     -0.01    0.347  -0.      0.     -0.006   0.204]\n",
        " [  1.      0.754   0.076   0.569   0.058   0.006   0.429   0.043   0.004   0.   ]\n",
        " [  1.     -1.157  -1.465   1.338   1.695   2.146  -1.548  -1.96   -2.482  -3.143]\n",
        " [  1.      0.177  -0.175   0.031  -0.031   0.031   0.006  -0.006   0.005  -0.005]\n",
        " [  1.     -2.502   1.536   6.258  -3.843   2.36  -15.656   9.615  -5.905   3.626]\n",
        " [  1.      0.631   0.537   0.398   0.339   0.288   0.251   0.214   0.182   0.155]\n",
        " [  1.      0.239   0.227   0.057   0.054   0.051   0.014   0.013   0.012   0.012]\n",
        " [  1.      1.062   0.598   1.127   0.635   0.358   1.197   0.675   0.38    0.214]\n",
        " [  1.     -0.837  -0.328   0.7     0.275   0.108  -0.586  -0.23   -0.09   -0.035]\n",
        " [  1.      0.567  -0.313   0.321  -0.178   0.098   0.182  -0.101   0.056  -0.031]\n",
        " [  1.      0.845  -2.593   0.714  -2.191   6.726   0.603  -1.852   5.684 -17.444]\n",
        " [  1.     -0.498   0.997   0.248  -0.497   0.994  -0.124   0.247  -0.495   0.991]\n",
        " [  1.     -0.753   0.89    0.566  -0.67    0.792  -0.426   0.504  -0.596   0.704]\n",
        " [  1.      0.549  -1.034   0.302  -0.568   1.068   0.166  -0.312   0.587  -1.104]\n",
        " [  1.      0.872   0.405   0.76    0.353   0.164   0.662   0.307   0.143   0.066]\n",
        " [  1.      1.309  -1.543   1.713  -2.019   2.38    2.243  -2.643   3.115  -3.672]\n",
        " [  1.     -1.486  -0.926   2.208   1.376   0.858  -3.28   -2.045  -1.275  -0.795]\n",
        " [  1.     -0.192  -1.319   0.037   0.253   1.739  -0.007  -0.048  -0.333  -2.293]\n",
        " [  1.      0.786   0.64    0.618   0.503   0.409   0.486   0.396   0.322   0.262]\n",
        " [  1.     -0.013   0.489   0.     -0.006   0.24   -0.      0.     -0.003   0.117]\n",
        " [  1.      0.849  -1.723   0.72   -1.462   2.969   0.612  -1.241   2.52   -5.115]\n",
        " [  1.     -0.175   0.269   0.031  -0.047   0.072  -0.005   0.008  -0.013   0.019]\n",
        " [  1.      0.289   0.723   0.084   0.209   0.523   0.024   0.06    0.151   0.378]\n",
        " [  1.     -0.761  -0.848   0.579   0.646   0.72   -0.441  -0.492  -0.548  -0.61 ]\n",
        " [  1.     -0.556   0.191   0.309  -0.106   0.037  -0.172   0.059  -0.02    0.007]\n",
        " [  1.     -0.137  -1.477   0.019   0.203   2.182  -0.003  -0.028  -0.3    -3.224]\n",
        " [  1.      0.369  -0.511   0.136  -0.189   0.261   0.05   -0.07    0.096  -0.133]\n",
        " [  1.      2.415   0.031   5.833   0.074   0.001  14.087   0.179   0.002   0.   ]\n",
        " [  1.     -1.502  -1.225   2.257   1.841   1.502  -3.39   -2.766  -2.256  -1.84 ]\n",
        " [  1.      0.642   1.024   0.412   0.658   1.049   0.265   0.423   0.674   1.075]]\n",
        "```"
      ]
    },
    {
      "cell_type": "code",
      "metadata": {
        "id": "KvdAihmCK_up"
      },
      "source": [
        "import numpy as np\n",
        "import pandas as pd\n",
        "from sklearn.preprocessing import PolynomialFeatures\n",
        "\n",
        "\n",
        "np.set_printoptions(suppress=True, precision=3, linewidth=150)"
      ],
      "execution_count": null,
      "outputs": []
    },
    {
      "cell_type": "markdown",
      "metadata": {
        "id": "UXaiLCdxOB3Q"
      },
      "source": [
        "### Ćwiczenie 39\n",
        "Przed przejściem dalej wykonaj poniższe polecenie (pobiera plik *predictions.csv*)"
      ]
    },
    {
      "cell_type": "code",
      "metadata": {
        "id": "14o_D43AN_Ib"
      },
      "source": [
        "!wget https://storage.googleapis.com/esmartdata-courses-files/python-210-cwiczenia/predictions.csv"
      ],
      "execution_count": null,
      "outputs": []
    },
    {
      "cell_type": "markdown",
      "metadata": {
        "id": "QEeqU6ZVLAEL"
      },
      "source": [
        "Plik *predictions.csv* zawiera predykcje pewnego modelu regresji:\n",
        "\n",
        "* zmienna *y_true* opisuje rzeczywiste, zaobserwowane wartości\n",
        "* zmienna *y_pred* opisuje wartości przewidziane przez model\n",
        "\n",
        "Wczytaj ten plik do obiektu *DataFrame*. Następnie zaimplementuj funkcję o nazwie *mean_absolute_error()* obliczającą średni błąd bezwzględny predykcji. \n",
        "\n",
        "Wykorzystując funkcję *mean_absolute_error()* policz wartość *MAE* dla tego modelu. Wynik wydrukuj do konsoli tak jak pokazano poniżej.\n",
        "\n",
        "**Wskazówka:**\n",
        "\n",
        "$$MAE = \\frac{1}{n} \\sum_{i=1}^{n}\\left| y\\_true_{i} - y\\_pred_{i}\\right|$$\n",
        "\n",
        "**Oczekiwany wynik:**\n",
        "```\n",
        "MAE = 6.7918\n",
        "```"
      ]
    },
    {
      "cell_type": "code",
      "metadata": {
        "id": "4yICvoZyLARP"
      },
      "source": [
        "import numpy as np\n",
        "import pandas as pd"
      ],
      "execution_count": null,
      "outputs": []
    },
    {
      "cell_type": "markdown",
      "metadata": {
        "id": "fdYpAarmLAuz"
      },
      "source": [
        "### Ćwiczenie 40\n",
        "Plik *predictions.csv* zawiera predykcje pewnego modelu regresji:\n",
        "\n",
        "* zmienna *y_true* opisuje rzeczywiste, zaobserwowane wartości\n",
        "* zmienna *y_pred* opisuje wartości przewidziane przez model\n",
        "\n",
        "Wczytaj ten plik do obiektu *DataFrame*. Następnie zaimplementuj funkcję o nazwie *mean_squared_error()* obliczającą błąd średniokwadratowy predykcji. \n",
        "\n",
        "Wykorzystując funkcję *mean_squared_error()* policz wartość MSE dla tego modelu. Wynik wydrukuj do konsoli tak jak pokazano poniżej.\n",
        "\n",
        "**Wskazówka:**\n",
        "\n",
        "$$MSE = \\frac{1}{n} \\sum_{i=1}^{n}\\left( y\\_true_{i} - y\\_pred_{i}\\right)^{2}$$\n",
        "\n",
        "**Oczekiwany wynik:**\n",
        "```\n",
        "MSE = 74.9471\n",
        "```"
      ]
    },
    {
      "cell_type": "code",
      "metadata": {
        "id": "RECwnINnLBIf"
      },
      "source": [
        "import numpy as np\n",
        "import pandas as pd"
      ],
      "execution_count": null,
      "outputs": []
    }
  ]
}